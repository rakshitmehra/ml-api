{
 "cells": [
  {
   "cell_type": "code",
   "execution_count": 244,
   "metadata": {},
   "outputs": [],
   "source": [
    "import pandas as pd\n",
    "import numpy as np"
   ]
  },
  {
   "cell_type": "code",
   "execution_count": 245,
   "metadata": {},
   "outputs": [
    {
     "data": {
      "text/html": [
       "<div>\n",
       "<style scoped>\n",
       "    .dataframe tbody tr th:only-of-type {\n",
       "        vertical-align: middle;\n",
       "    }\n",
       "\n",
       "    .dataframe tbody tr th {\n",
       "        vertical-align: top;\n",
       "    }\n",
       "\n",
       "    .dataframe thead th {\n",
       "        text-align: right;\n",
       "    }\n",
       "</style>\n",
       "<table border=\"1\" class=\"dataframe\">\n",
       "  <thead>\n",
       "    <tr style=\"text-align: right;\">\n",
       "      <th></th>\n",
       "      <th>lastEventCategory</th>\n",
       "      <th>secondLastEventCategory</th>\n",
       "      <th>mostFrequentCategory</th>\n",
       "      <th>totalAttendedEvents</th>\n",
       "      <th>eventCategory</th>\n",
       "    </tr>\n",
       "  </thead>\n",
       "  <tbody>\n",
       "    <tr>\n",
       "      <th>0</th>\n",
       "      <td>music</td>\n",
       "      <td>tech</td>\n",
       "      <td>music</td>\n",
       "      <td>5</td>\n",
       "      <td>music</td>\n",
       "    </tr>\n",
       "    <tr>\n",
       "      <th>1</th>\n",
       "      <td>sports</td>\n",
       "      <td>music</td>\n",
       "      <td>sports</td>\n",
       "      <td>4</td>\n",
       "      <td>sports</td>\n",
       "    </tr>\n",
       "    <tr>\n",
       "      <th>2</th>\n",
       "      <td>tech</td>\n",
       "      <td>business</td>\n",
       "      <td>tech</td>\n",
       "      <td>5</td>\n",
       "      <td>tech</td>\n",
       "    </tr>\n",
       "    <tr>\n",
       "      <th>3</th>\n",
       "      <td>social</td>\n",
       "      <td>cultural</td>\n",
       "      <td>social</td>\n",
       "      <td>3</td>\n",
       "      <td>social</td>\n",
       "    </tr>\n",
       "    <tr>\n",
       "      <th>4</th>\n",
       "      <td>business</td>\n",
       "      <td>educational</td>\n",
       "      <td>business</td>\n",
       "      <td>4</td>\n",
       "      <td>business</td>\n",
       "    </tr>\n",
       "    <tr>\n",
       "      <th>5</th>\n",
       "      <td>gaming</td>\n",
       "      <td>tech</td>\n",
       "      <td>gaming</td>\n",
       "      <td>5</td>\n",
       "      <td>gaming</td>\n",
       "    </tr>\n",
       "    <tr>\n",
       "      <th>6</th>\n",
       "      <td>cultural</td>\n",
       "      <td>music</td>\n",
       "      <td>cultural</td>\n",
       "      <td>2</td>\n",
       "      <td>cultural</td>\n",
       "    </tr>\n",
       "    <tr>\n",
       "      <th>7</th>\n",
       "      <td>charity</td>\n",
       "      <td>social</td>\n",
       "      <td>charity</td>\n",
       "      <td>3</td>\n",
       "      <td>charity</td>\n",
       "    </tr>\n",
       "    <tr>\n",
       "      <th>8</th>\n",
       "      <td>educational</td>\n",
       "      <td>business</td>\n",
       "      <td>educational</td>\n",
       "      <td>4</td>\n",
       "      <td>educational</td>\n",
       "    </tr>\n",
       "    <tr>\n",
       "      <th>9</th>\n",
       "      <td>entertainment</td>\n",
       "      <td>cultural</td>\n",
       "      <td>entertainment</td>\n",
       "      <td>5</td>\n",
       "      <td>entertainment</td>\n",
       "    </tr>\n",
       "  </tbody>\n",
       "</table>\n",
       "</div>"
      ],
      "text/plain": [
       "  lastEventCategory secondLastEventCategory mostFrequentCategory  \\\n",
       "0             music                    tech                music   \n",
       "1            sports                   music               sports   \n",
       "2              tech                business                 tech   \n",
       "3            social                cultural               social   \n",
       "4          business             educational             business   \n",
       "5            gaming                    tech               gaming   \n",
       "6          cultural                   music             cultural   \n",
       "7           charity                  social              charity   \n",
       "8       educational                business          educational   \n",
       "9     entertainment                cultural        entertainment   \n",
       "\n",
       "   totalAttendedEvents  eventCategory  \n",
       "0                    5          music  \n",
       "1                    4         sports  \n",
       "2                    5           tech  \n",
       "3                    3         social  \n",
       "4                    4       business  \n",
       "5                    5         gaming  \n",
       "6                    2       cultural  \n",
       "7                    3        charity  \n",
       "8                    4    educational  \n",
       "9                    5  entertainment  "
      ]
     },
     "execution_count": 245,
     "metadata": {},
     "output_type": "execute_result"
    }
   ],
   "source": [
    "df = pd.read_csv('../Dataset/dataset.csv')\n",
    "df.head(10)"
   ]
  },
  {
   "cell_type": "code",
   "execution_count": 246,
   "metadata": {},
   "outputs": [
    {
     "name": "stdout",
     "output_type": "stream",
     "text": [
      "<class 'pandas.core.frame.DataFrame'>\n",
      "RangeIndex: 505 entries, 0 to 504\n",
      "Data columns (total 5 columns):\n",
      " #   Column                   Non-Null Count  Dtype \n",
      "---  ------                   --------------  ----- \n",
      " 0   lastEventCategory        505 non-null    object\n",
      " 1   secondLastEventCategory  505 non-null    object\n",
      " 2   mostFrequentCategory     505 non-null    object\n",
      " 3   totalAttendedEvents      505 non-null    int64 \n",
      " 4   eventCategory            505 non-null    object\n",
      "dtypes: int64(1), object(4)\n",
      "memory usage: 19.9+ KB\n"
     ]
    },
    {
     "data": {
      "text/plain": [
       "(None,\n",
       "   lastEventCategory secondLastEventCategory mostFrequentCategory  \\\n",
       " 0             music                    tech                music   \n",
       " 1            sports                   music               sports   \n",
       " 2              tech                business                 tech   \n",
       " 3            social                cultural               social   \n",
       " 4          business             educational             business   \n",
       " \n",
       "    totalAttendedEvents eventCategory  \n",
       " 0                    5         music  \n",
       " 1                    4        sports  \n",
       " 2                    5          tech  \n",
       " 3                    3        social  \n",
       " 4                    4      business  )"
      ]
     },
     "execution_count": 246,
     "metadata": {},
     "output_type": "execute_result"
    }
   ],
   "source": [
    "dataset_info = df.info()\n",
    "dataset_head = df.head()\n",
    "\n",
    "dataset_info, dataset_head"
   ]
  },
  {
   "cell_type": "code",
   "execution_count": 247,
   "metadata": {},
   "outputs": [],
   "source": [
    "from sklearn.model_selection import train_test_split\n",
    "from sklearn.ensemble import RandomForestClassifier\n",
    "from sklearn.preprocessing import LabelEncoder\n",
    "from sklearn.metrics import accuracy_score, classification_report"
   ]
  },
  {
   "cell_type": "code",
   "execution_count": 248,
   "metadata": {},
   "outputs": [],
   "source": [
    "label_encoder = LabelEncoder()\n",
    "dataset_encoded = df.apply(lambda col: label_encoder.fit_transform(col) if col.dtype == 'object' else col)"
   ]
  },
  {
   "cell_type": "code",
   "execution_count": 249,
   "metadata": {},
   "outputs": [
    {
     "name": "stdout",
     "output_type": "stream",
     "text": [
      "Label to Category Mapping:\n",
      "0: business\n",
      "1: charity\n",
      "2: cultural\n",
      "3: educational\n",
      "4: entertainment\n",
      "5: gaming\n",
      "6: music\n",
      "7: social\n",
      "8: sports\n",
      "9: tech\n"
     ]
    }
   ],
   "source": [
    "# Create a label encoder and fit it to the data\n",
    "label_encoder = LabelEncoder()\n",
    "label_encoder.fit(df['eventCategory'])  # Replace 'eventCategrory' with your actual target column\n",
    "\n",
    "# Get the classes (categories) and their corresponding integer labels\n",
    "classes = label_encoder.classes_\n",
    "class_mapping = {i: cls for i, cls in enumerate(classes)}\n",
    "\n",
    "print(\"Label to Category Mapping:\")\n",
    "for label, category in class_mapping.items():\n",
    "    print(f\"{label}: {category}\")"
   ]
  },
  {
   "cell_type": "code",
   "execution_count": 250,
   "metadata": {},
   "outputs": [],
   "source": [
    "X = dataset_encoded.drop(columns=['eventCategory'])\n",
    "y = dataset_encoded['eventCategory']"
   ]
  },
  {
   "cell_type": "markdown",
   "metadata": {},
   "source": [
    "Here we had used RandomForestClassifier to train the model and check accuracy."
   ]
  },
  {
   "cell_type": "code",
   "execution_count": 251,
   "metadata": {},
   "outputs": [],
   "source": [
    "# x_train, x_test, y_train, y_test = train_test_split(X, y, test_size=0.2, random_state=42)"
   ]
  },
  {
   "cell_type": "code",
   "execution_count": 252,
   "metadata": {},
   "outputs": [],
   "source": [
    "# rf_model = RandomForestClassifier(random_state=42)\n",
    "# rf_model.fit(x_train, y_train)"
   ]
  },
  {
   "cell_type": "code",
   "execution_count": 253,
   "metadata": {},
   "outputs": [],
   "source": [
    "# y_pred = rf_model.predict(x_test)"
   ]
  },
  {
   "cell_type": "code",
   "execution_count": 254,
   "metadata": {},
   "outputs": [],
   "source": [
    "# accuracy = accuracy_score(y_test, y_pred)\n",
    "# classification_rep = classification_report(y_test, y_pred, target_names=label_encoder.classes_)\n",
    "\n",
    "# accuracy, classification_rep"
   ]
  },
  {
   "cell_type": "markdown",
   "metadata": {},
   "source": [
    "Here we increase the accuracy GridSearchCV."
   ]
  },
  {
   "cell_type": "code",
   "execution_count": 255,
   "metadata": {},
   "outputs": [],
   "source": [
    "# from sklearn.model_selection import GridSearchCV\n",
    "\n",
    "# param_grid = {\n",
    "#     'n_estimators': [100, 200, 300],\n",
    "#     'max_depth': [None, 10, 20, 30],\n",
    "#     'min_samples_split': [2, 5, 10],\n",
    "#     'min_samples_leaf': [1, 2, 4],\n",
    "#     'bootstrap': [True, False]\n",
    "# }"
   ]
  },
  {
   "cell_type": "code",
   "execution_count": 256,
   "metadata": {},
   "outputs": [],
   "source": [
    "# grid_search = GridSearchCV(estimator=RandomForestClassifier(random_state=42),\n",
    "#                            param_grid=param_grid,\n",
    "#                            cv=5, n_jobs=-1, verbose=2, scoring='accuracy')\n",
    "\n",
    "# grid_search.fit(x_train, y_train)\n",
    "\n",
    "# best_params = grid_search.best_params_\n",
    "# best_accuracy = grid_search.best_score_\n",
    "\n",
    "# best_params, best_accuracy"
   ]
  },
  {
   "cell_type": "markdown",
   "metadata": {},
   "source": [
    "Here we train model with new accuracy parameters."
   ]
  },
  {
   "cell_type": "code",
   "execution_count": 257,
   "metadata": {},
   "outputs": [],
   "source": [
    "# from sklearn.ensemble import RandomForestClassifier\n",
    "# from sklearn.metrics import accuracy_score, classification_report"
   ]
  },
  {
   "cell_type": "code",
   "execution_count": 258,
   "metadata": {},
   "outputs": [],
   "source": [
    "# rf_optimized = RandomForestClassifier(\n",
    "#     n_estimators=300,\n",
    "#     max_depth=None,\n",
    "#     min_samples_split=5,\n",
    "#     min_samples_leaf=2,\n",
    "#     bootstrap=True,\n",
    "#     random_state=42\n",
    "# )"
   ]
  },
  {
   "cell_type": "code",
   "execution_count": 259,
   "metadata": {},
   "outputs": [],
   "source": [
    "# rf_optimized.fit(X_train, y_train)\n",
    "\n",
    "# y_pred_optimized = rf_optimized.predict(X_test)\n",
    "\n",
    "# accuracy_optimized = accuracy_score(y_test, y_pred_optimized)\n",
    "# classification_rep_optimized = classification_report(y_test, y_pred_optimized, target_names=label_encoder.classes_)\n",
    "\n",
    "# print(f\"Optimized Accuracy: {accuracy_optimized}\")\n",
    "# print(\"Classification Report:\\n\", classification_rep_optimized)"
   ]
  },
  {
   "cell_type": "markdown",
   "metadata": {},
   "source": [
    "GBMGradientBoostingMachine(GBM)"
   ]
  },
  {
   "cell_type": "code",
   "execution_count": 260,
   "metadata": {},
   "outputs": [
    {
     "name": "stdout",
     "output_type": "stream",
     "text": [
      "Accuracy: 0.8910891089108911\n",
      "Classification Report:\n",
      "                precision    recall  f1-score   support\n",
      "\n",
      "     business       0.83      1.00      0.91        10\n",
      "      charity       0.60      1.00      0.75         6\n",
      "     cultural       1.00      0.89      0.94         9\n",
      "  educational       0.83      0.77      0.80        13\n",
      "entertainment       0.89      0.80      0.84        10\n",
      "       gaming       0.88      1.00      0.93         7\n",
      "        music       1.00      0.77      0.87        13\n",
      "       social       1.00      1.00      1.00         9\n",
      "       sports       1.00      0.89      0.94         9\n",
      "         tech       0.93      0.93      0.93        15\n",
      "\n",
      "     accuracy                           0.89       101\n",
      "    macro avg       0.90      0.90      0.89       101\n",
      " weighted avg       0.91      0.89      0.89       101\n",
      "\n"
     ]
    }
   ],
   "source": [
    "from sklearn.ensemble import GradientBoostingClassifier\n",
    "from sklearn.model_selection import train_test_split\n",
    "from sklearn.preprocessing import LabelEncoder\n",
    "from sklearn.metrics import accuracy_score, classification_report\n",
    "\n",
    "label_encoder = LabelEncoder()\n",
    "dataset_encoded = df.apply(lambda col: label_encoder.fit_transform(col) if col.dtype == 'object' else col)\n",
    "\n",
    "X = dataset_encoded.drop(columns=['eventCategory'])\n",
    "y = dataset_encoded['eventCategory']\n",
    "\n",
    "# Split data\n",
    "x_train, x_test, y_train, y_test = train_test_split(X, y, test_size=0.2, random_state=42)\n",
    "\n",
    "# Initialize and train the Gradient Boosting model\n",
    "gbm_model = GradientBoostingClassifier(random_state=42)\n",
    "gbm_model.fit(x_train, y_train)\n",
    "\n",
    "# Predict on the test set\n",
    "y_pred_gbm = gbm_model.predict(x_test)\n",
    "\n",
    "# Calculate accuracy and classification report\n",
    "accuracy_gbm = accuracy_score(y_test, y_pred_gbm)\n",
    "classification_rep_gbm = classification_report(y_test, y_pred_gbm, target_names=label_encoder.classes_)\n",
    "\n",
    "print(\"Accuracy:\", accuracy_gbm)\n",
    "print(\"Classification Report:\\n\", classification_rep_gbm)\n"
   ]
  },
  {
   "cell_type": "code",
   "execution_count": 261,
   "metadata": {},
   "outputs": [],
   "source": [
    "label_mapping = dict(enumerate(label_encoder.classes_))"
   ]
  },
  {
   "cell_type": "code",
   "execution_count": 262,
   "metadata": {},
   "outputs": [
    {
     "name": "stdout",
     "output_type": "stream",
     "text": [
      "Predicted Event Category: 1\n"
     ]
    }
   ],
   "source": [
    "new_input_data = pd.DataFrame({\n",
    "    'lastEventCategory': ['gaming'],\n",
    "    'secondLastEventCategory': ['social'],\n",
    "    'mostFrequentCategory': ['tech'],\n",
    "    'totalAttendedEvents': [15]\n",
    "})\n",
    "\n",
    "for feature in ['lastEventCategory', 'secondLastEventCategory', 'mostFrequentCategory']:\n",
    "    if feature in new_input_data.columns:\n",
    "        new_input_data[feature] = label_encoder.transform(new_input_data[feature])\n",
    "\n",
    "predictions = gbm_model.predict(new_input_data)\n",
    "\n",
    "print(\"Predicted Event Category:\", predictions[0])\n",
    "\n"
   ]
  },
  {
   "cell_type": "code",
   "execution_count": 263,
   "metadata": {},
   "outputs": [
    {
     "name": "stdout",
     "output_type": "stream",
     "text": [
      "Predicted Event Category: charity\n"
     ]
    }
   ],
   "source": [
    "predictions = gbm_model.predict(new_input_data)\n",
    "\n",
    "predicted_categories = [label_mapping[pred] for pred in predictions]\n",
    "\n",
    "print(\"Predicted Event Category:\", predicted_categories[0])"
   ]
  },
  {
   "cell_type": "code",
   "execution_count": 264,
   "metadata": {},
   "outputs": [
    {
     "data": {
      "text/plain": [
       "['../SavedModels/ml_model.pkl']"
      ]
     },
     "execution_count": 264,
     "metadata": {},
     "output_type": "execute_result"
    }
   ],
   "source": [
    "import joblib\n",
    "\n",
    "\n",
    "joblib.dump(gbm_model, '../SavedModels/ml_model.pkl')"
   ]
  },
  {
   "cell_type": "code",
   "execution_count": 265,
   "metadata": {},
   "outputs": [
    {
     "data": {
      "text/plain": [
       "['label_encoder.pkl']"
      ]
     },
     "execution_count": 265,
     "metadata": {},
     "output_type": "execute_result"
    }
   ],
   "source": [
    "from sklearn.preprocessing import LabelEncoder\n",
    "import joblib\n",
    "\n",
    "label_encoder = LabelEncoder()\n",
    "df['eventCategory'] = label_encoder.fit_transform(df['eventCategory'])\n",
    "\n",
    "joblib.dump(label_encoder, 'label_encoder.pkl')\n"
   ]
  },
  {
   "cell_type": "markdown",
   "metadata": {},
   "source": []
  },
  {
   "cell_type": "markdown",
   "metadata": {},
   "source": [
    "Voting Classifier"
   ]
  },
  {
   "cell_type": "code",
   "execution_count": 266,
   "metadata": {},
   "outputs": [],
   "source": [
    "# from sklearn.ensemble import VotingClassifier\n",
    "\n",
    "# # Initialize the classifiers\n",
    "# rf_model = RandomForestClassifier(random_state=42)\n",
    "# gbm_model = GradientBoostingClassifier(random_state=42)\n",
    "\n",
    "# # Initialize the Voting Classifier\n",
    "# voting_clf = VotingClassifier(estimators=[\n",
    "#     ('rf', rf_model),\n",
    "#     ('gbm', gbm_model)\n",
    "# ], voting='soft')  # 'soft' voting uses predicted probabilities, 'hard' uses predicted classes\n",
    "\n",
    "# # Train the Voting Classifier\n",
    "# voting_clf.fit(x_train, y_train)\n",
    "\n",
    "# # Predict on the test set\n",
    "# y_pred_voting = voting_clf.predict(x_test)\n",
    "\n",
    "# # Calculate accuracy and classification report\n",
    "# accuracy_voting = accuracy_score(y_test, y_pred_voting)\n",
    "# classification_rep_voting = classification_report(y_test, y_pred_voting, target_names=label_encoder.classes_)\n",
    "\n",
    "# accuracy_voting, classification_rep_voting"
   ]
  },
  {
   "cell_type": "markdown",
   "metadata": {},
   "source": []
  }
 ],
 "metadata": {
  "kernelspec": {
   "display_name": "Python 3",
   "language": "python",
   "name": "python3"
  },
  "language_info": {
   "codemirror_mode": {
    "name": "ipython",
    "version": 3
   },
   "file_extension": ".py",
   "mimetype": "text/x-python",
   "name": "python",
   "nbconvert_exporter": "python",
   "pygments_lexer": "ipython3",
   "version": "3.9.12"
  }
 },
 "nbformat": 4,
 "nbformat_minor": 2
}
